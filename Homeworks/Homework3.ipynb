{
  "nbformat": 4,
  "nbformat_minor": 0,
  "metadata": {
    "kernelspec": {
      "display_name": "Python 3",
      "language": "python",
      "name": "python3"
    },
    "language_info": {
      "codemirror_mode": {
        "name": "ipython",
        "version": 3
      },
      "file_extension": ".py",
      "mimetype": "text/x-python",
      "name": "python",
      "nbconvert_exporter": "python",
      "pygments_lexer": "ipython3",
      "version": "3.8.3"
    },
    "colab": {
      "name": "Homework3-Copy1.ipynb",
      "provenance": []
    }
  },
  "cells": [
    {
      "cell_type": "markdown",
      "metadata": {
        "id": "DjQ2k0nx63bc"
      },
      "source": [
        "## Homework 3\n",
        "\n",
        "* Generate dataset using `make_blobs` function in the sklearn.datasets class. Generate 2000 samples with 3 features (X) with one label (y).\n",
        "* Explore and analyse raw data.\n",
        "* Do preprocessing for classification.\n",
        "* Split your dataset into train and test test (0.7 for train and 0.3 for test).\n",
        "* Try Decision Tree and XGBoost Algorithm with different hyperparameters. (Using GridSearchCV is a plus)\n",
        "* Evaluate your result on both train and test set. Analyse if there is any underfitting or overfitting problem. Make your comments."
      ]
    },
    {
      "cell_type": "code",
      "metadata": {
        "id": "1rXArhX063bg"
      },
      "source": [
        "# import library\n",
        "\n",
        "import matplotlib.pyplot as plt\n",
        "import numpy as np\n",
        "import pandas as pd\n",
        "from sklearn.linear_model import LinearRegression\n",
        "from sklearn.datasets import make_blobs\n",
        "from sklearn.model_selection import train_test_split"
      ],
      "execution_count": 1,
      "outputs": []
    },
    {
      "cell_type": "code",
      "metadata": {
        "colab": {
          "base_uri": "https://localhost:8080/"
        },
        "id": "40SOFOfZ63bj",
        "outputId": "8eed94dc-cf12-4b14-85ec-262953f39819"
      },
      "source": [
        "# generate dataset\n",
        "\n",
        "X, y = make_blobs(n_samples=2000, n_features=3, random_state=99)\n",
        "print(X.shape)"
      ],
      "execution_count": 2,
      "outputs": [
        {
          "output_type": "stream",
          "text": [
            "(2000, 3)\n"
          ],
          "name": "stdout"
        }
      ]
    },
    {
      "cell_type": "code",
      "metadata": {
        "id": "3Dc9Av0e63bl"
      },
      "source": [
        "data = pd.DataFrame(X, y)"
      ],
      "execution_count": 3,
      "outputs": []
    },
    {
      "cell_type": "code",
      "metadata": {
        "colab": {
          "base_uri": "https://localhost:8080/",
          "height": 195
        },
        "id": "rAR3AQ9N63bm",
        "outputId": "3353e64c-e93e-40ae-9ea8-e5499db2ab9f"
      },
      "source": [
        "data.head()"
      ],
      "execution_count": 4,
      "outputs": [
        {
          "output_type": "execute_result",
          "data": {
            "text/html": [
              "<div>\n",
              "<style scoped>\n",
              "    .dataframe tbody tr th:only-of-type {\n",
              "        vertical-align: middle;\n",
              "    }\n",
              "\n",
              "    .dataframe tbody tr th {\n",
              "        vertical-align: top;\n",
              "    }\n",
              "\n",
              "    .dataframe thead th {\n",
              "        text-align: right;\n",
              "    }\n",
              "</style>\n",
              "<table border=\"1\" class=\"dataframe\">\n",
              "  <thead>\n",
              "    <tr style=\"text-align: right;\">\n",
              "      <th></th>\n",
              "      <th>0</th>\n",
              "      <th>1</th>\n",
              "      <th>2</th>\n",
              "    </tr>\n",
              "  </thead>\n",
              "  <tbody>\n",
              "    <tr>\n",
              "      <th>2</th>\n",
              "      <td>-4.310578</td>\n",
              "      <td>-9.450810</td>\n",
              "      <td>8.629310</td>\n",
              "    </tr>\n",
              "    <tr>\n",
              "      <th>0</th>\n",
              "      <td>1.482540</td>\n",
              "      <td>-1.303870</td>\n",
              "      <td>8.077193</td>\n",
              "    </tr>\n",
              "    <tr>\n",
              "      <th>1</th>\n",
              "      <td>-8.629516</td>\n",
              "      <td>3.508920</td>\n",
              "      <td>1.964374</td>\n",
              "    </tr>\n",
              "    <tr>\n",
              "      <th>2</th>\n",
              "      <td>-5.153735</td>\n",
              "      <td>-9.008171</td>\n",
              "      <td>11.052393</td>\n",
              "    </tr>\n",
              "    <tr>\n",
              "      <th>1</th>\n",
              "      <td>-8.345104</td>\n",
              "      <td>4.610527</td>\n",
              "      <td>3.314673</td>\n",
              "    </tr>\n",
              "  </tbody>\n",
              "</table>\n",
              "</div>"
            ],
            "text/plain": [
              "          0         1          2\n",
              "2 -4.310578 -9.450810   8.629310\n",
              "0  1.482540 -1.303870   8.077193\n",
              "1 -8.629516  3.508920   1.964374\n",
              "2 -5.153735 -9.008171  11.052393\n",
              "1 -8.345104  4.610527   3.314673"
            ]
          },
          "metadata": {
            "tags": []
          },
          "execution_count": 4
        }
      ]
    },
    {
      "cell_type": "code",
      "metadata": {
        "colab": {
          "base_uri": "https://localhost:8080/"
        },
        "id": "3zOJF0aW63bo",
        "outputId": "38c287f0-dc05-4039-a3a1-7c527d3dc6bb"
      },
      "source": [
        "data.info()"
      ],
      "execution_count": 5,
      "outputs": [
        {
          "output_type": "stream",
          "text": [
            "<class 'pandas.core.frame.DataFrame'>\n",
            "Int64Index: 2000 entries, 2 to 0\n",
            "Data columns (total 3 columns):\n",
            " #   Column  Non-Null Count  Dtype  \n",
            "---  ------  --------------  -----  \n",
            " 0   0       2000 non-null   float64\n",
            " 1   1       2000 non-null   float64\n",
            " 2   2       2000 non-null   float64\n",
            "dtypes: float64(3)\n",
            "memory usage: 62.5 KB\n"
          ],
          "name": "stdout"
        }
      ]
    },
    {
      "cell_type": "code",
      "metadata": {
        "colab": {
          "base_uri": "https://localhost:8080/"
        },
        "id": "7IikAyms63bp",
        "outputId": "8560595e-172a-482a-a072-ea7dc32af956"
      },
      "source": [
        "data.isna().sum()"
      ],
      "execution_count": 6,
      "outputs": [
        {
          "output_type": "execute_result",
          "data": {
            "text/plain": [
              "0    0\n",
              "1    0\n",
              "2    0\n",
              "dtype: int64"
            ]
          },
          "metadata": {
            "tags": []
          },
          "execution_count": 6
        }
      ]
    },
    {
      "cell_type": "code",
      "metadata": {
        "colab": {
          "base_uri": "https://localhost:8080/"
        },
        "id": "jzuKPhxb63bq",
        "outputId": "8e22be86-2cb1-4766-c2af-0c38be91e43d"
      },
      "source": [
        "data.isin(['?']).sum()"
      ],
      "execution_count": 7,
      "outputs": [
        {
          "output_type": "execute_result",
          "data": {
            "text/plain": [
              "0    0\n",
              "1    0\n",
              "2    0\n",
              "dtype: int64"
            ]
          },
          "metadata": {
            "tags": []
          },
          "execution_count": 7
        }
      ]
    },
    {
      "cell_type": "code",
      "metadata": {
        "colab": {
          "base_uri": "https://localhost:8080/",
          "height": 284
        },
        "id": "CKhF-zne63br",
        "outputId": "a5480d83-efaf-4884-8428-7743c6a87d8d"
      },
      "source": [
        "data.describe()"
      ],
      "execution_count": 8,
      "outputs": [
        {
          "output_type": "execute_result",
          "data": {
            "text/html": [
              "<div>\n",
              "<style scoped>\n",
              "    .dataframe tbody tr th:only-of-type {\n",
              "        vertical-align: middle;\n",
              "    }\n",
              "\n",
              "    .dataframe tbody tr th {\n",
              "        vertical-align: top;\n",
              "    }\n",
              "\n",
              "    .dataframe thead th {\n",
              "        text-align: right;\n",
              "    }\n",
              "</style>\n",
              "<table border=\"1\" class=\"dataframe\">\n",
              "  <thead>\n",
              "    <tr style=\"text-align: right;\">\n",
              "      <th></th>\n",
              "      <th>0</th>\n",
              "      <th>1</th>\n",
              "      <th>2</th>\n",
              "    </tr>\n",
              "  </thead>\n",
              "  <tbody>\n",
              "    <tr>\n",
              "      <th>count</th>\n",
              "      <td>2000.000000</td>\n",
              "      <td>2000.000000</td>\n",
              "      <td>2000.000000</td>\n",
              "    </tr>\n",
              "    <tr>\n",
              "      <th>mean</th>\n",
              "      <td>-3.296205</td>\n",
              "      <td>-1.036872</td>\n",
              "      <td>5.902492</td>\n",
              "    </tr>\n",
              "    <tr>\n",
              "      <th>std</th>\n",
              "      <td>5.379013</td>\n",
              "      <td>6.325017</td>\n",
              "      <td>3.630670</td>\n",
              "    </tr>\n",
              "    <tr>\n",
              "      <th>min</th>\n",
              "      <td>-12.573177</td>\n",
              "      <td>-12.438518</td>\n",
              "      <td>-2.180802</td>\n",
              "    </tr>\n",
              "    <tr>\n",
              "      <th>25%</th>\n",
              "      <td>-8.634742</td>\n",
              "      <td>-8.385262</td>\n",
              "      <td>2.047631</td>\n",
              "    </tr>\n",
              "    <tr>\n",
              "      <th>50%</th>\n",
              "      <td>-4.088948</td>\n",
              "      <td>-0.168755</td>\n",
              "      <td>6.539549</td>\n",
              "    </tr>\n",
              "    <tr>\n",
              "      <th>75%</th>\n",
              "      <td>2.815209</td>\n",
              "      <td>5.477406</td>\n",
              "      <td>9.192248</td>\n",
              "    </tr>\n",
              "    <tr>\n",
              "      <th>max</th>\n",
              "      <td>7.015565</td>\n",
              "      <td>8.980375</td>\n",
              "      <td>12.583449</td>\n",
              "    </tr>\n",
              "  </tbody>\n",
              "</table>\n",
              "</div>"
            ],
            "text/plain": [
              "                 0            1            2\n",
              "count  2000.000000  2000.000000  2000.000000\n",
              "mean     -3.296205    -1.036872     5.902492\n",
              "std       5.379013     6.325017     3.630670\n",
              "min     -12.573177   -12.438518    -2.180802\n",
              "25%      -8.634742    -8.385262     2.047631\n",
              "50%      -4.088948    -0.168755     6.539549\n",
              "75%       2.815209     5.477406     9.192248\n",
              "max       7.015565     8.980375    12.583449"
            ]
          },
          "metadata": {
            "tags": []
          },
          "execution_count": 8
        }
      ]
    },
    {
      "cell_type": "code",
      "metadata": {
        "id": "ClZXriqJ63bs"
      },
      "source": [
        "# split dataset (0.7 for train and 0.3 for test).\n",
        "\n",
        "X_train, X_test, y_train, y_test = train_test_split(X,y, test_size=0.3, random_state=99)"
      ],
      "execution_count": 9,
      "outputs": []
    },
    {
      "cell_type": "code",
      "metadata": {
        "colab": {
          "base_uri": "https://localhost:8080/"
        },
        "id": "qME1qQOS63bt",
        "outputId": "36ef7283-9db4-46fb-a861-c6888ebbe13c"
      },
      "source": [
        "from sklearn.tree import DecisionTreeClassifier\n",
        "\n",
        "clf = DecisionTreeClassifier(max_depth=4, random_state=55)\n",
        "clf.fit(X_train,y_train)\n",
        "print(\"Accuracy of train:\",clf.score(X_train,y_train))\n",
        "print(\"Accuracy of test:\",clf.score(X_test,y_test))"
      ],
      "execution_count": 10,
      "outputs": [
        {
          "output_type": "stream",
          "text": [
            "Accuracy of train: 1.0\n",
            "Accuracy of test: 1.0\n"
          ],
          "name": "stdout"
        }
      ]
    },
    {
      "cell_type": "markdown",
      "metadata": {
        "id": "giVNPSDH63bu"
      },
      "source": [
        "***For the decision tree there is an overfitting because accuracy is 1."
      ]
    },
    {
      "cell_type": "code",
      "metadata": {
        "id": "cSLw4f4z63bu"
      },
      "source": [
        "import xgboost as xgb"
      ],
      "execution_count": 11,
      "outputs": []
    },
    {
      "cell_type": "code",
      "metadata": {
        "id": "oBsSUV-R63bv"
      },
      "source": [
        "dmatrix_train = xgb.DMatrix(data=X_train, label=y_train)\n",
        "dmatrix_test = xgb.DMatrix(data=X_test, label=y_test)"
      ],
      "execution_count": 13,
      "outputs": []
    },
    {
      "cell_type": "code",
      "metadata": {
        "id": "OkB5Xlcd63bw"
      },
      "source": [
        "param = {'max_depth':3, \n",
        "         'eta':1, \n",
        "         'objective':'multi:softprob', \n",
        "         'num_class':3}\n",
        "\n",
        "num_round = 5\n",
        "model = xgb.train(param, dmatrix_train, num_round)"
      ],
      "execution_count": 14,
      "outputs": []
    },
    {
      "cell_type": "code",
      "metadata": {
        "id": "z8lxVuGf83WN"
      },
      "source": [
        "preds = model.predict(dmatrix_test)"
      ],
      "execution_count": 15,
      "outputs": []
    },
    {
      "cell_type": "code",
      "metadata": {
        "id": "tTZcmJPi8-4C"
      },
      "source": [
        "best_preds = np.asarray([np.argmax(line) for line in preds])"
      ],
      "execution_count": 16,
      "outputs": []
    },
    {
      "cell_type": "code",
      "metadata": {
        "id": "zwez0sWB9dJt"
      },
      "source": [
        "from sklearn.metrics import precision_score, recall_score, accuracy_score, classification_report, f1_score"
      ],
      "execution_count": 18,
      "outputs": []
    },
    {
      "cell_type": "code",
      "metadata": {
        "colab": {
          "base_uri": "https://localhost:8080/"
        },
        "id": "XBGoM-Wi9Ei2",
        "outputId": "b70c9095-0e04-4f22-a3c5-1fc4726d41c2"
      },
      "source": [
        "print(\"Precision = {}\".format(precision_score(y_test, best_preds, average='macro')))\r\n",
        "print(\"Recall = {}\".format(recall_score(y_test, best_preds, average='macro')))\r\n",
        "print(\"Accuracy = {}\".format(accuracy_score(y_test, best_preds)))"
      ],
      "execution_count": 19,
      "outputs": [
        {
          "output_type": "stream",
          "text": [
            "Precision = 1.0\n",
            "Recall = 1.0\n",
            "Accuracy = 1.0\n"
          ],
          "name": "stdout"
        }
      ]
    },
    {
      "cell_type": "markdown",
      "metadata": {
        "id": "nOmyjVZv9i73"
      },
      "source": [
        "***For this there is an overfitting because accuracy is 1."
      ]
    }
  ]
}